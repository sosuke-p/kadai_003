{
  "nbformat": 4,
  "nbformat_minor": 0,
  "metadata": {
    "colab": {
      "provenance": [],
      "authorship_tag": "ABX9TyN+jYAFKqtzb04mjX22Dfyn",
      "include_colab_link": true
    },
    "kernelspec": {
      "name": "python3",
      "display_name": "Python 3"
    },
    "language_info": {
      "name": "python"
    }
  },
  "cells": [
    {
      "cell_type": "markdown",
      "metadata": {
        "id": "view-in-github",
        "colab_type": "text"
      },
      "source": [
        "<a href=\"https://colab.research.google.com/github/sosuke-p/kadai_003/blob/main/kadai_003.ipynb\" target=\"_parent\"><img src=\"https://colab.research.google.com/assets/colab-badge.svg\" alt=\"Open In Colab\"/></a>"
      ]
    },
    {
      "cell_type": "code",
      "execution_count": 1,
      "metadata": {
        "colab": {
          "base_uri": "https://localhost:8080/"
        },
        "id": "kg6fC0nd8xJI",
        "outputId": "5f7e7690-b051-48c5-db1f-7bdb522d0c9a"
      },
      "outputs": [
        {
          "output_type": "stream",
          "name": "stdout",
          "text": [
            "[[ 4  5  6  7]\n",
            " [12 17 22 27]\n",
            " [20 29 38 47]]\n"
          ]
        },
        {
          "output_type": "execute_result",
          "data": {
            "text/plain": [
              "47"
            ]
          },
          "metadata": {},
          "execution_count": 1
        }
      ],
      "source": [
        "# step1 numpyの読み込み\n",
        "import numpy as np\n",
        "\n",
        "# step2 A,B行列の記述\n",
        "A = np.array([[0, 1],[2, 3],[4,5]])\n",
        "B = np.array([[0, 1, 2, 3],[4, 5, 6, 7]])\n",
        "\n",
        "# step3 行列の積計算\n",
        "c = np.dot(A, B)\n",
        "\n",
        "# step4 3の計算結果の表示\n",
        "print(c)\n",
        "\n",
        "# step5 最大値を求める\n",
        "c.max()"
      ]
    }
  ]
}